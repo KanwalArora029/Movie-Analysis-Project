{
 "cells": [
  {
   "cell_type": "code",
   "execution_count": 1,
   "metadata": {},
   "outputs": [],
   "source": [
    "import pandas as pd"
   ]
  },
  {
   "cell_type": "code",
   "execution_count": 12,
   "metadata": {},
   "outputs": [],
   "source": [
    "import numpy as np"
   ]
  },
  {
   "cell_type": "code",
   "execution_count": 3,
   "metadata": {},
   "outputs": [],
   "source": [
    "df=pd.read_csv('data.csv')"
   ]
  },
  {
   "cell_type": "code",
   "execution_count": 4,
   "metadata": {},
   "outputs": [
    {
     "data": {
      "text/html": [
       "<div>\n",
       "<style scoped>\n",
       "    .dataframe tbody tr th:only-of-type {\n",
       "        vertical-align: middle;\n",
       "    }\n",
       "\n",
       "    .dataframe tbody tr th {\n",
       "        vertical-align: top;\n",
       "    }\n",
       "\n",
       "    .dataframe thead th {\n",
       "        text-align: right;\n",
       "    }\n",
       "</style>\n",
       "<table border=\"1\" class=\"dataframe\">\n",
       "  <thead>\n",
       "    <tr style=\"text-align: right;\">\n",
       "      <th></th>\n",
       "      <th>Unnamed: 0</th>\n",
       "      <th>movie_id</th>\n",
       "      <th>title</th>\n",
       "      <th>release_date</th>\n",
       "      <th>genre_ids</th>\n",
       "      <th>vote_avg</th>\n",
       "      <th>vote_count</th>\n",
       "      <th>Total_Rev</th>\n",
       "      <th>Domestic_Rev</th>\n",
       "      <th>Foreign_Rev</th>\n",
       "      <th>Foreign_Percent</th>\n",
       "      <th>Domestic_Percent</th>\n",
       "    </tr>\n",
       "  </thead>\n",
       "  <tbody>\n",
       "    <tr>\n",
       "      <td>0</td>\n",
       "      <td>0</td>\n",
       "      <td>221</td>\n",
       "      <td>Rebel Without a Cause</td>\n",
       "      <td>2018-09-23</td>\n",
       "      <td>Drama</td>\n",
       "      <td>7.7</td>\n",
       "      <td>827</td>\n",
       "      <td>199963</td>\n",
       "      <td>199963</td>\n",
       "      <td>0</td>\n",
       "      <td>100.0</td>\n",
       "      <td>0.0</td>\n",
       "    </tr>\n",
       "    <tr>\n",
       "      <td>1</td>\n",
       "      <td>1</td>\n",
       "      <td>424</td>\n",
       "      <td>Schindler's List</td>\n",
       "      <td>1993-12-15</td>\n",
       "      <td>Drama</td>\n",
       "      <td>8.6</td>\n",
       "      <td>8804</td>\n",
       "      <td>937140</td>\n",
       "      <td>833050</td>\n",
       "      <td>104090</td>\n",
       "      <td>88.9</td>\n",
       "      <td>11.1</td>\n",
       "    </tr>\n",
       "    <tr>\n",
       "      <td>2</td>\n",
       "      <td>2</td>\n",
       "      <td>2280</td>\n",
       "      <td>Big</td>\n",
       "      <td>1988-06-03</td>\n",
       "      <td>Comedy</td>\n",
       "      <td>7.0</td>\n",
       "      <td>1985</td>\n",
       "      <td>258507</td>\n",
       "      <td>258507</td>\n",
       "      <td>0</td>\n",
       "      <td>100.0</td>\n",
       "      <td>0.0</td>\n",
       "    </tr>\n",
       "    <tr>\n",
       "      <td>3</td>\n",
       "      <td>3</td>\n",
       "      <td>8392</td>\n",
       "      <td>My Neighbor Totoro</td>\n",
       "      <td>2018-12-11</td>\n",
       "      <td>Animation</td>\n",
       "      <td>8.1</td>\n",
       "      <td>3616</td>\n",
       "      <td>27083857</td>\n",
       "      <td>1144649</td>\n",
       "      <td>25939208</td>\n",
       "      <td>4.2</td>\n",
       "      <td>95.8</td>\n",
       "    </tr>\n",
       "    <tr>\n",
       "      <td>4</td>\n",
       "      <td>4</td>\n",
       "      <td>10148</td>\n",
       "      <td>Krystal</td>\n",
       "      <td>2018-04-13</td>\n",
       "      <td>Comedy</td>\n",
       "      <td>4.6</td>\n",
       "      <td>25</td>\n",
       "      <td>37516</td>\n",
       "      <td>37516</td>\n",
       "      <td>0</td>\n",
       "      <td>100.0</td>\n",
       "      <td>0.0</td>\n",
       "    </tr>\n",
       "    <tr>\n",
       "      <td>...</td>\n",
       "      <td>...</td>\n",
       "      <td>...</td>\n",
       "      <td>...</td>\n",
       "      <td>...</td>\n",
       "      <td>...</td>\n",
       "      <td>...</td>\n",
       "      <td>...</td>\n",
       "      <td>...</td>\n",
       "      <td>...</td>\n",
       "      <td>...</td>\n",
       "      <td>...</td>\n",
       "      <td>...</td>\n",
       "    </tr>\n",
       "    <tr>\n",
       "      <td>600</td>\n",
       "      <td>954</td>\n",
       "      <td>624086</td>\n",
       "      <td>Summer</td>\n",
       "      <td>2018-01-20</td>\n",
       "      <td>NaN</td>\n",
       "      <td>5.0</td>\n",
       "      <td>1</td>\n",
       "      <td>528583774</td>\n",
       "      <td>167510016</td>\n",
       "      <td>361073758</td>\n",
       "      <td>31.7</td>\n",
       "      <td>68.3</td>\n",
       "    </tr>\n",
       "    <tr>\n",
       "      <td>601</td>\n",
       "      <td>959</td>\n",
       "      <td>624497</td>\n",
       "      <td>Lost</td>\n",
       "      <td>2018-11-02</td>\n",
       "      <td>Drama</td>\n",
       "      <td>0.0</td>\n",
       "      <td>0</td>\n",
       "      <td>164026</td>\n",
       "      <td>125173</td>\n",
       "      <td>38853</td>\n",
       "      <td>76.3</td>\n",
       "      <td>23.7</td>\n",
       "    </tr>\n",
       "    <tr>\n",
       "      <td>602</td>\n",
       "      <td>961</td>\n",
       "      <td>629374</td>\n",
       "      <td>John</td>\n",
       "      <td>2018-09-08</td>\n",
       "      <td>Comedy</td>\n",
       "      <td>0.0</td>\n",
       "      <td>0</td>\n",
       "      <td>158970776</td>\n",
       "      <td>4412170</td>\n",
       "      <td>154558606</td>\n",
       "      <td>2.8</td>\n",
       "      <td>97.2</td>\n",
       "    </tr>\n",
       "    <tr>\n",
       "      <td>603</td>\n",
       "      <td>963</td>\n",
       "      <td>629802</td>\n",
       "      <td>Time</td>\n",
       "      <td>2018-10-08</td>\n",
       "      <td>Action</td>\n",
       "      <td>0.0</td>\n",
       "      <td>0</td>\n",
       "      <td>132675864</td>\n",
       "      <td>100478608</td>\n",
       "      <td>32197256</td>\n",
       "      <td>75.7</td>\n",
       "      <td>24.3</td>\n",
       "    </tr>\n",
       "    <tr>\n",
       "      <td>604</td>\n",
       "      <td>973</td>\n",
       "      <td>641110</td>\n",
       "      <td>ACES</td>\n",
       "      <td>2018-02-13</td>\n",
       "      <td>Drama</td>\n",
       "      <td>0.0</td>\n",
       "      <td>0</td>\n",
       "      <td>2191516</td>\n",
       "      <td>72324</td>\n",
       "      <td>2119192</td>\n",
       "      <td>3.3</td>\n",
       "      <td>96.7</td>\n",
       "    </tr>\n",
       "  </tbody>\n",
       "</table>\n",
       "<p>605 rows × 12 columns</p>\n",
       "</div>"
      ],
      "text/plain": [
       "     Unnamed: 0  movie_id                  title release_date  genre_ids  \\\n",
       "0             0       221  Rebel Without a Cause   2018-09-23      Drama   \n",
       "1             1       424       Schindler's List   1993-12-15      Drama   \n",
       "2             2      2280                    Big   1988-06-03     Comedy   \n",
       "3             3      8392     My Neighbor Totoro   2018-12-11  Animation   \n",
       "4             4     10148                Krystal   2018-04-13     Comedy   \n",
       "..          ...       ...                    ...          ...        ...   \n",
       "600         954    624086                 Summer   2018-01-20        NaN   \n",
       "601         959    624497                   Lost   2018-11-02      Drama   \n",
       "602         961    629374                   John   2018-09-08     Comedy   \n",
       "603         963    629802                   Time   2018-10-08     Action   \n",
       "604         973    641110                   ACES   2018-02-13      Drama   \n",
       "\n",
       "     vote_avg  vote_count  Total_Rev  Domestic_Rev  Foreign_Rev  \\\n",
       "0         7.7         827     199963        199963            0   \n",
       "1         8.6        8804     937140        833050       104090   \n",
       "2         7.0        1985     258507        258507            0   \n",
       "3         8.1        3616   27083857       1144649     25939208   \n",
       "4         4.6          25      37516         37516            0   \n",
       "..        ...         ...        ...           ...          ...   \n",
       "600       5.0           1  528583774     167510016    361073758   \n",
       "601       0.0           0     164026        125173        38853   \n",
       "602       0.0           0  158970776       4412170    154558606   \n",
       "603       0.0           0  132675864     100478608     32197256   \n",
       "604       0.0           0    2191516         72324      2119192   \n",
       "\n",
       "     Foreign_Percent  Domestic_Percent  \n",
       "0              100.0               0.0  \n",
       "1               88.9              11.1  \n",
       "2              100.0               0.0  \n",
       "3                4.2              95.8  \n",
       "4              100.0               0.0  \n",
       "..               ...               ...  \n",
       "600             31.7              68.3  \n",
       "601             76.3              23.7  \n",
       "602              2.8              97.2  \n",
       "603             75.7              24.3  \n",
       "604              3.3              96.7  \n",
       "\n",
       "[605 rows x 12 columns]"
      ]
     },
     "execution_count": 4,
     "metadata": {},
     "output_type": "execute_result"
    }
   ],
   "source": [
    "df"
   ]
  },
  {
   "cell_type": "code",
   "execution_count": 9,
   "metadata": {
    "scrolled": true
   },
   "outputs": [],
   "source": [
    "df=df.drop(columns='Unnamed: 0')"
   ]
  },
  {
   "cell_type": "code",
   "execution_count": 15,
   "metadata": {},
   "outputs": [],
   "source": [
    "df = df.replace(0, np.NaN)"
   ]
  },
  {
   "cell_type": "markdown",
   "metadata": {},
   "source": [
    "Exploring the Data"
   ]
  },
  {
   "cell_type": "code",
   "execution_count": 155,
   "metadata": {},
   "outputs": [
    {
     "data": {
      "image/png": "[encoded data removed]",
      "text/plain": [
       "<Figure size 432x288 with 1 Axes>"
      ]
     },
     "metadata": {
      "needs_background": "light"
     },
     "output_type": "display_data"
    }
   ],
   "source": [
    "average_rating_genre =df.groupby(['genre_ids'])['vote_avg'].mean().plot(kind='bar', color='tan')"
   ]
  },
  {
   "cell_type": "code",
   "execution_count": 138,
   "metadata": {},
   "outputs": [
    {
     "data": {
      "image/png": "[encoded data removed]",
      "text/plain": [
       "<Figure size 432x288 with 1 Axes>"
      ]
     },
     "metadata": {
      "needs_background": "light"
     },
     "output_type": "display_data"
    }
   ],
   "source": [
    "average_total_rev_genre = df.groupby(['genre_ids'])['Total_Rev'].mean().plot(kind='bar', color='tan')"
   ]
  },
  {
   "cell_type": "code",
   "execution_count": 153,
   "metadata": {
    "scrolled": true
   },
   "outputs": [
    {
     "data": {
      "image/png": "[encoded data removed]",
      "text/plain": [
       "<Figure size 432x288 with 1 Axes>"
      ]
     },
     "metadata": {
      "needs_background": "light"
     },
     "output_type": "display_data"
    }
   ],
   "source": [
    "total_count_genre = df.groupby(['genre_ids'])['title'].count().plot(kind='bar', color='tan')"
   ]
  },
  {
   "cell_type": "code",
   "execution_count": 38,
   "metadata": {
    "scrolled": false
   },
   "outputs": [
    {
     "data": {
      "text/html": [
       "<div>\n",
       "<style scoped>\n",
       "    .dataframe tbody tr th:only-of-type {\n",
       "        vertical-align: middle;\n",
       "    }\n",
       "\n",
       "    .dataframe tbody tr th {\n",
       "        vertical-align: top;\n",
       "    }\n",
       "\n",
       "    .dataframe thead th {\n",
       "        text-align: right;\n",
       "    }\n",
       "</style>\n",
       "<table border=\"1\" class=\"dataframe\">\n",
       "  <thead>\n",
       "    <tr style=\"text-align: right;\">\n",
       "      <th></th>\n",
       "      <th>Foreign_Rev</th>\n",
       "      <th>Domestic_Rev</th>\n",
       "    </tr>\n",
       "    <tr>\n",
       "      <th>genre_ids</th>\n",
       "      <th></th>\n",
       "      <th></th>\n",
       "    </tr>\n",
       "  </thead>\n",
       "  <tbody>\n",
       "    <tr>\n",
       "      <td>Action</td>\n",
       "      <td>1.737070e+08</td>\n",
       "      <td>8.825959e+07</td>\n",
       "    </tr>\n",
       "    <tr>\n",
       "      <td>Adventure</td>\n",
       "      <td>9.572368e+07</td>\n",
       "      <td>3.584075e+07</td>\n",
       "    </tr>\n",
       "    <tr>\n",
       "      <td>Animation</td>\n",
       "      <td>1.758052e+08</td>\n",
       "      <td>7.861509e+07</td>\n",
       "    </tr>\n",
       "    <tr>\n",
       "      <td>Comedy</td>\n",
       "      <td>4.685423e+07</td>\n",
       "      <td>2.734690e+07</td>\n",
       "    </tr>\n",
       "    <tr>\n",
       "      <td>Crime</td>\n",
       "      <td>1.314370e+07</td>\n",
       "      <td>9.712215e+06</td>\n",
       "    </tr>\n",
       "    <tr>\n",
       "      <td>Documentary</td>\n",
       "      <td>1.556572e+07</td>\n",
       "      <td>2.791466e+06</td>\n",
       "    </tr>\n",
       "    <tr>\n",
       "      <td>Drama</td>\n",
       "      <td>2.237363e+07</td>\n",
       "      <td>9.985929e+06</td>\n",
       "    </tr>\n",
       "    <tr>\n",
       "      <td>Family</td>\n",
       "      <td>6.872272e+08</td>\n",
       "      <td>7.219352e+07</td>\n",
       "    </tr>\n",
       "    <tr>\n",
       "      <td>Fantasy</td>\n",
       "      <td>1.375317e+07</td>\n",
       "      <td>1.460359e+07</td>\n",
       "    </tr>\n",
       "    <tr>\n",
       "      <td>History</td>\n",
       "      <td>2.748683e+06</td>\n",
       "      <td>8.781548e+06</td>\n",
       "    </tr>\n",
       "    <tr>\n",
       "      <td>Horror</td>\n",
       "      <td>3.055901e+07</td>\n",
       "      <td>2.476444e+07</td>\n",
       "    </tr>\n",
       "    <tr>\n",
       "      <td>Music</td>\n",
       "      <td>5.066602e+06</td>\n",
       "      <td>7.622955e+05</td>\n",
       "    </tr>\n",
       "    <tr>\n",
       "      <td>Mystery</td>\n",
       "      <td>5.235883e+07</td>\n",
       "      <td>2.347731e+07</td>\n",
       "    </tr>\n",
       "    <tr>\n",
       "      <td>Romance</td>\n",
       "      <td>3.925250e+06</td>\n",
       "      <td>8.218120e+04</td>\n",
       "    </tr>\n",
       "    <tr>\n",
       "      <td>Science Fiction</td>\n",
       "      <td>2.969743e+07</td>\n",
       "      <td>1.254588e+07</td>\n",
       "    </tr>\n",
       "    <tr>\n",
       "      <td>Thriller</td>\n",
       "      <td>3.181153e+07</td>\n",
       "      <td>1.564617e+07</td>\n",
       "    </tr>\n",
       "    <tr>\n",
       "      <td>War</td>\n",
       "      <td>1.087443e+06</td>\n",
       "      <td>1.092260e+05</td>\n",
       "    </tr>\n",
       "  </tbody>\n",
       "</table>\n",
       "</div>"
      ],
      "text/plain": [
       "                  Foreign_Rev  Domestic_Rev\n",
       "genre_ids                                  \n",
       "Action           1.737070e+08  8.825959e+07\n",
       "Adventure        9.572368e+07  3.584075e+07\n",
       "Animation        1.758052e+08  7.861509e+07\n",
       "Comedy           4.685423e+07  2.734690e+07\n",
       "Crime            1.314370e+07  9.712215e+06\n",
       "Documentary      1.556572e+07  2.791466e+06\n",
       "Drama            2.237363e+07  9.985929e+06\n",
       "Family           6.872272e+08  7.219352e+07\n",
       "Fantasy          1.375317e+07  1.460359e+07\n",
       "History          2.748683e+06  8.781548e+06\n",
       "Horror           3.055901e+07  2.476444e+07\n",
       "Music            5.066602e+06  7.622955e+05\n",
       "Mystery          5.235883e+07  2.347731e+07\n",
       "Romance          3.925250e+06  8.218120e+04\n",
       "Science Fiction  2.969743e+07  1.254588e+07\n",
       "Thriller         3.181153e+07  1.564617e+07\n",
       "War              1.087443e+06  1.092260e+05"
      ]
     },
     "execution_count": 38,
     "metadata": {},
     "output_type": "execute_result"
    }
   ],
   "source": [
    "df.groupby(['genre_ids'])['Foreign_Rev','Domestic_Rev'].mean()"
   ]
  },
  {
   "cell_type": "code",
   "execution_count": null,
   "metadata": {},
   "outputs": [],
   "source": [
    "groupby(['genre_ids'])['Total_Rev','Foreign_Rev','Domestic_Rev'].sum()"
   ]
  },
  {
   "cell_type": "markdown",
   "metadata": {},
   "source": [
    "############################## Percentage Work ##############################"
   ]
  },
  {
   "cell_type": "code",
   "execution_count": 93,
   "metadata": {},
   "outputs": [
    {
     "data": {
      "text/html": [
       "<div>\n",
       "<style scoped>\n",
       "    .dataframe tbody tr th:only-of-type {\n",
       "        vertical-align: middle;\n",
       "    }\n",
       "\n",
       "    .dataframe tbody tr th {\n",
       "        vertical-align: top;\n",
       "    }\n",
       "\n",
       "    .dataframe thead th {\n",
       "        text-align: right;\n",
       "    }\n",
       "</style>\n",
       "<table border=\"1\" class=\"dataframe\">\n",
       "  <thead>\n",
       "    <tr style=\"text-align: right;\">\n",
       "      <th></th>\n",
       "      <th>Total_Rev</th>\n",
       "      <th>Foreign_Rev</th>\n",
       "      <th>Domestic_Rev</th>\n",
       "    </tr>\n",
       "    <tr>\n",
       "      <th>genre_ids</th>\n",
       "      <th></th>\n",
       "      <th></th>\n",
       "      <th></th>\n",
       "    </tr>\n",
       "  </thead>\n",
       "  <tbody>\n",
       "    <tr>\n",
       "      <td>Action</td>\n",
       "      <td>17380868569</td>\n",
       "      <td>1.129096e+10</td>\n",
       "      <td>6.089912e+09</td>\n",
       "    </tr>\n",
       "    <tr>\n",
       "      <td>Adventure</td>\n",
       "      <td>3731443330</td>\n",
       "      <td>2.584539e+09</td>\n",
       "      <td>1.146904e+09</td>\n",
       "    </tr>\n",
       "    <tr>\n",
       "      <td>Animation</td>\n",
       "      <td>3288889007</td>\n",
       "      <td>2.109663e+09</td>\n",
       "      <td>1.179226e+09</td>\n",
       "    </tr>\n",
       "    <tr>\n",
       "      <td>Comedy</td>\n",
       "      <td>5686323775</td>\n",
       "      <td>3.279796e+09</td>\n",
       "      <td>2.406527e+09</td>\n",
       "    </tr>\n",
       "    <tr>\n",
       "      <td>Crime</td>\n",
       "      <td>534816015</td>\n",
       "      <td>2.628740e+08</td>\n",
       "      <td>2.719420e+08</td>\n",
       "    </tr>\n",
       "    <tr>\n",
       "      <td>Documentary</td>\n",
       "      <td>838329646</td>\n",
       "      <td>5.759318e+08</td>\n",
       "      <td>2.623978e+08</td>\n",
       "    </tr>\n",
       "    <tr>\n",
       "      <td>Drama</td>\n",
       "      <td>4190309096</td>\n",
       "      <td>2.662462e+09</td>\n",
       "      <td>1.527847e+09</td>\n",
       "    </tr>\n",
       "    <tr>\n",
       "      <td>Family</td>\n",
       "      <td>903807770</td>\n",
       "      <td>6.872272e+08</td>\n",
       "      <td>2.165806e+08</td>\n",
       "    </tr>\n",
       "    <tr>\n",
       "      <td>Fantasy</td>\n",
       "      <td>213100841</td>\n",
       "      <td>9.627216e+07</td>\n",
       "      <td>1.168287e+08</td>\n",
       "    </tr>\n",
       "    <tr>\n",
       "      <td>History</td>\n",
       "      <td>23060462</td>\n",
       "      <td>5.497366e+06</td>\n",
       "      <td>1.756310e+07</td>\n",
       "    </tr>\n",
       "    <tr>\n",
       "      <td>Horror</td>\n",
       "      <td>1512703044</td>\n",
       "      <td>7.945343e+08</td>\n",
       "      <td>7.181687e+08</td>\n",
       "    </tr>\n",
       "    <tr>\n",
       "      <td>Music</td>\n",
       "      <td>16231568</td>\n",
       "      <td>1.013320e+07</td>\n",
       "      <td>6.098364e+06</td>\n",
       "    </tr>\n",
       "    <tr>\n",
       "      <td>Mystery</td>\n",
       "      <td>151672281</td>\n",
       "      <td>1.047177e+08</td>\n",
       "      <td>4.695462e+07</td>\n",
       "    </tr>\n",
       "    <tr>\n",
       "      <td>Romance</td>\n",
       "      <td>12186657</td>\n",
       "      <td>1.177575e+07</td>\n",
       "      <td>4.109060e+05</td>\n",
       "    </tr>\n",
       "    <tr>\n",
       "      <td>Science Fiction</td>\n",
       "      <td>303643324</td>\n",
       "      <td>1.781846e+08</td>\n",
       "      <td>1.254588e+08</td>\n",
       "    </tr>\n",
       "    <tr>\n",
       "      <td>Thriller</td>\n",
       "      <td>663369467</td>\n",
       "      <td>3.817384e+08</td>\n",
       "      <td>2.816311e+08</td>\n",
       "    </tr>\n",
       "    <tr>\n",
       "      <td>War</td>\n",
       "      <td>1196669</td>\n",
       "      <td>1.087443e+06</td>\n",
       "      <td>1.092260e+05</td>\n",
       "    </tr>\n",
       "  </tbody>\n",
       "</table>\n",
       "</div>"
      ],
      "text/plain": [
       "                   Total_Rev   Foreign_Rev  Domestic_Rev\n",
       "genre_ids                                               \n",
       "Action           17380868569  1.129096e+10  6.089912e+09\n",
       "Adventure         3731443330  2.584539e+09  1.146904e+09\n",
       "Animation         3288889007  2.109663e+09  1.179226e+09\n",
       "Comedy            5686323775  3.279796e+09  2.406527e+09\n",
       "Crime              534816015  2.628740e+08  2.719420e+08\n",
       "Documentary        838329646  5.759318e+08  2.623978e+08\n",
       "Drama             4190309096  2.662462e+09  1.527847e+09\n",
       "Family             903807770  6.872272e+08  2.165806e+08\n",
       "Fantasy            213100841  9.627216e+07  1.168287e+08\n",
       "History             23060462  5.497366e+06  1.756310e+07\n",
       "Horror            1512703044  7.945343e+08  7.181687e+08\n",
       "Music               16231568  1.013320e+07  6.098364e+06\n",
       "Mystery            151672281  1.047177e+08  4.695462e+07\n",
       "Romance             12186657  1.177575e+07  4.109060e+05\n",
       "Science Fiction    303643324  1.781846e+08  1.254588e+08\n",
       "Thriller           663369467  3.817384e+08  2.816311e+08\n",
       "War                  1196669  1.087443e+06  1.092260e+05"
      ]
     },
     "execution_count": 93,
     "metadata": {},
     "output_type": "execute_result"
    }
   ],
   "source": [
    "df.groupby(['genre_ids'])['Total_Rev','Foreign_Rev','Domestic_Rev'].sum()"
   ]
  },
  {
   "cell_type": "code",
   "execution_count": 120,
   "metadata": {},
   "outputs": [],
   "source": [
    "test_df_f=df.groupby('genre_ids')['Foreign_Rev'].sum()/df.groupby('genre_ids')['Total_Rev'].sum()"
   ]
  },
  {
   "cell_type": "code",
   "execution_count": 121,
   "metadata": {
    "scrolled": true
   },
   "outputs": [
    {
     "data": {
      "text/plain": [
       "genre_ids\n",
       "Action             0.649620\n",
       "Adventure          0.692638\n",
       "Animation          0.641451\n",
       "Comedy             0.576787\n",
       "Crime              0.491522\n",
       "Documentary        0.686999\n",
       "Drama              0.635386\n",
       "Family             0.760369\n",
       "Fantasy            0.451768\n",
       "History            0.238389\n",
       "Horror             0.525241\n",
       "Music              0.624290\n",
       "Mystery            0.690421\n",
       "Romance            0.966282\n",
       "Science Fiction    0.586822\n",
       "Thriller           0.575454\n",
       "War                0.908725\n",
       "dtype: float64"
      ]
     },
     "execution_count": 121,
     "metadata": {},
     "output_type": "execute_result"
    }
   ],
   "source": [
    "test_df_f"
   ]
  },
  {
   "cell_type": "code",
   "execution_count": 122,
   "metadata": {},
   "outputs": [],
   "source": [
    "test_df_d=df.groupby('genre_ids')['Domestic_Rev'].sum()/df.groupby('genre_ids')['Total_Rev'].sum()"
   ]
  },
  {
   "cell_type": "code",
   "execution_count": 123,
   "metadata": {
    "scrolled": true
   },
   "outputs": [
    {
     "data": {
      "text/plain": [
       "genre_ids\n",
       "Action             0.350380\n",
       "Adventure          0.307362\n",
       "Animation          0.358549\n",
       "Comedy             0.423213\n",
       "Crime              0.508478\n",
       "Documentary        0.313001\n",
       "Drama              0.364614\n",
       "Family             0.239631\n",
       "Fantasy            0.548232\n",
       "History            0.761611\n",
       "Horror             0.474759\n",
       "Music              0.375710\n",
       "Mystery            0.309579\n",
       "Romance            0.033718\n",
       "Science Fiction    0.413178\n",
       "Thriller           0.424546\n",
       "War                0.091275\n",
       "dtype: float64"
      ]
     },
     "execution_count": 123,
     "metadata": {},
     "output_type": "execute_result"
    }
   ],
   "source": [
    "test_df_d"
   ]
  },
  {
   "cell_type": "code",
   "execution_count": 124,
   "metadata": {},
   "outputs": [],
   "source": [
    "test_df_t=pd.DataFrame({'Domestic_Percent': test_df_d, 'Foreign_Percent': test_df_f}) "
   ]
  },
  {
   "cell_type": "code",
   "execution_count": 167,
   "metadata": {},
   "outputs": [
    {
     "data": {
      "text/plain": [
       "<matplotlib.axes._subplots.AxesSubplot at 0x127c6a790>"
      ]
     },
     "execution_count": 167,
     "metadata": {},
     "output_type": "execute_result"
    },
    {
     "data": {
      "image/png": "[encoded data removed]",
      "text/plain": [
       "<Figure size 720x576 with 1 Axes>"
      ]
     },
     "metadata": {
      "needs_background": "light"
     },
     "output_type": "display_data"
    }
   ],
   "source": [
    "test_df_t.plot(kind='bar', stacked=True, color=('tan','gray'), figsize=(10,8))"
   ]
  },
  {
   "cell_type": "markdown",
   "metadata": {},
   "source": [
    "################################   CORRELATION WORK   #####################################"
   ]
  },
  {
   "cell_type": "markdown",
   "metadata": {},
   "source": [
    "#####################################################################"
   ]
  },
  {
   "cell_type": "code",
   "execution_count": 172,
   "metadata": {},
   "outputs": [],
   "source": [
    "df_avg_rate = df.groupby(['genre_ids'])['vote_avg'].mean()"
   ]
  },
  {
   "cell_type": "code",
   "execution_count": 171,
   "metadata": {},
   "outputs": [],
   "source": [
    "df_avg_rev = df.groupby(['genre_ids'])['Total_Rev'].mean()"
   ]
  },
  {
   "cell_type": "code",
   "execution_count": 174,
   "metadata": {},
   "outputs": [
    {
     "data": {
      "text/plain": [
       "0.4591151558872832"
      ]
     },
     "execution_count": 174,
     "metadata": {},
     "output_type": "execute_result"
    }
   ],
   "source": [
    "df_avg_rev.corr(df_avg_rate)"
   ]
  },
  {
   "cell_type": "markdown",
   "metadata": {},
   "source": [
    "The correlation between avg rating by genre and rev by genre is moderate to weak.\n",
    "**Double check this"
   ]
  },
  {
   "cell_type": "markdown",
   "metadata": {},
   "source": [
    "#####################################################################"
   ]
  },
  {
   "cell_type": "code",
   "execution_count": 175,
   "metadata": {},
   "outputs": [
    {
     "data": {
      "text/plain": [
       "0.8881517702528937"
      ]
     },
     "execution_count": 175,
     "metadata": {},
     "output_type": "execute_result"
    }
   ],
   "source": [
    "df['Domestic_Rev'].corr(df['Foreign_Rev'])"
   ]
  },
  {
   "cell_type": "markdown",
   "metadata": {},
   "source": [
    "There is a strong correlation between domestic revenue and foreign revenue meaning that if a movie does well in one market it is likely to do well in the other"
   ]
  },
  {
   "cell_type": "markdown",
   "metadata": {},
   "source": [
    "#####################################################################"
   ]
  },
  {
   "cell_type": "code",
   "execution_count": 177,
   "metadata": {},
   "outputs": [
    {
     "data": {
      "text/plain": [
       "0.12529961689237065"
      ]
     },
     "execution_count": 177,
     "metadata": {},
     "output_type": "execute_result"
    }
   ],
   "source": [
    "df['vote_avg'].corr(df['Total_Rev'])"
   ]
  },
  {
   "cell_type": "markdown",
   "metadata": {},
   "source": [
    "There is almost no correlation between user rating and revenue generate"
   ]
  },
  {
   "cell_type": "markdown",
   "metadata": {},
   "source": [
    "#####################################################################"
   ]
  },
  {
   "cell_type": "code",
   "execution_count": 178,
   "metadata": {},
   "outputs": [
    {
     "data": {
      "text/plain": [
       "0.6842763687450856"
      ]
     },
     "execution_count": 178,
     "metadata": {},
     "output_type": "execute_result"
    }
   ],
   "source": [
    "df['vote_count'].corr(df['Total_Rev'])"
   ]
  },
  {
   "cell_type": "markdown",
   "metadata": {},
   "source": [
    "There is a moderate to strong correlation between amount of ratings and revenue generated"
   ]
  },
  {
   "cell_type": "markdown",
   "metadata": {},
   "source": [
    "#####################################################################"
   ]
  },
  {
   "cell_type": "code",
   "execution_count": null,
   "metadata": {},
   "outputs": [],
   "source": []
  }
 ],
 "metadata": {
  "kernelspec": {
   "display_name": "Python 3",
   "language": "python",
   "name": "python3"
  },
  "language_info": {
   "codemirror_mode": {
    "name": "ipython",
    "version": 3
   },
   "file_extension": ".py",
   "mimetype": "text/x-python",
   "name": "python",
   "nbconvert_exporter": "python",
   "pygments_lexer": "ipython3",
   "version": "3.7.4"
  }
 },
 "nbformat": 4,
 "nbformat_minor": 2
}

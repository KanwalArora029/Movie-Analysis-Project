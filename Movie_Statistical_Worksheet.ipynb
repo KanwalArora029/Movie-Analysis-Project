{
 "cells": [
  {
   "cell_type": "code",
   "execution_count": 3,
   "metadata": {},
   "outputs": [],
   "source": [
    "import pandas as pd"
   ]
  },
  {
   "cell_type": "code",
   "execution_count": 4,
   "metadata": {},
   "outputs": [],
   "source": [
    "import numpy as np"
   ]
  },
  {
   "cell_type": "code",
   "execution_count": 5,
   "metadata": {},
   "outputs": [],
   "source": [
    "df=pd.read_csv('movie_data.csv')"
   ]
  },
  {
   "cell_type": "code",
   "execution_count": 6,
   "metadata": {},
   "outputs": [
    {
     "data": {
      "text/html": [
       "<div>\n",
       "<style scoped>\n",
       "    .dataframe tbody tr th:only-of-type {\n",
       "        vertical-align: middle;\n",
       "    }\n",
       "\n",
       "    .dataframe tbody tr th {\n",
       "        vertical-align: top;\n",
       "    }\n",
       "\n",
       "    .dataframe thead th {\n",
       "        text-align: right;\n",
       "    }\n",
       "</style>\n",
       "<table border=\"1\" class=\"dataframe\">\n",
       "  <thead>\n",
       "    <tr style=\"text-align: right;\">\n",
       "      <th></th>\n",
       "      <th>Unnamed: 0</th>\n",
       "      <th>movie_id</th>\n",
       "      <th>title</th>\n",
       "      <th>release_date</th>\n",
       "      <th>genre_ids</th>\n",
       "      <th>vote_avg</th>\n",
       "      <th>vote_count</th>\n",
       "      <th>Total_Rev</th>\n",
       "      <th>Domestic_Rev</th>\n",
       "      <th>Foreign_Rev</th>\n",
       "      <th>Foreign_Percent</th>\n",
       "      <th>Domestic_Percent</th>\n",
       "    </tr>\n",
       "  </thead>\n",
       "  <tbody>\n",
       "    <tr>\n",
       "      <td>0</td>\n",
       "      <td>0</td>\n",
       "      <td>221</td>\n",
       "      <td>Rebel Without a Cause</td>\n",
       "      <td>2018-09-23</td>\n",
       "      <td>Drama</td>\n",
       "      <td>7.7</td>\n",
       "      <td>827</td>\n",
       "      <td>199963</td>\n",
       "      <td>199963</td>\n",
       "      <td>0</td>\n",
       "      <td>100.0</td>\n",
       "      <td>0.0</td>\n",
       "    </tr>\n",
       "    <tr>\n",
       "      <td>1</td>\n",
       "      <td>1</td>\n",
       "      <td>424</td>\n",
       "      <td>Schindler's List</td>\n",
       "      <td>1993-12-15</td>\n",
       "      <td>Drama</td>\n",
       "      <td>8.6</td>\n",
       "      <td>8804</td>\n",
       "      <td>937140</td>\n",
       "      <td>833050</td>\n",
       "      <td>104090</td>\n",
       "      <td>88.9</td>\n",
       "      <td>11.1</td>\n",
       "    </tr>\n",
       "    <tr>\n",
       "      <td>2</td>\n",
       "      <td>2</td>\n",
       "      <td>797</td>\n",
       "      <td>Persona</td>\n",
       "      <td>1967-03-06</td>\n",
       "      <td>Drama</td>\n",
       "      <td>8.3</td>\n",
       "      <td>839</td>\n",
       "      <td>35423</td>\n",
       "      <td>35423</td>\n",
       "      <td>0</td>\n",
       "      <td>100.0</td>\n",
       "      <td>0.0</td>\n",
       "    </tr>\n",
       "    <tr>\n",
       "      <td>3</td>\n",
       "      <td>3</td>\n",
       "      <td>2280</td>\n",
       "      <td>Big</td>\n",
       "      <td>1988-06-03</td>\n",
       "      <td>Comedy</td>\n",
       "      <td>7.0</td>\n",
       "      <td>1985</td>\n",
       "      <td>22090304</td>\n",
       "      <td>85624</td>\n",
       "      <td>22004680</td>\n",
       "      <td>0.4</td>\n",
       "      <td>99.6</td>\n",
       "    </tr>\n",
       "    <tr>\n",
       "      <td>4</td>\n",
       "      <td>9</td>\n",
       "      <td>8392</td>\n",
       "      <td>My Neighbor Totoro</td>\n",
       "      <td>2018-12-11</td>\n",
       "      <td>Animation</td>\n",
       "      <td>8.1</td>\n",
       "      <td>3616</td>\n",
       "      <td>27083857</td>\n",
       "      <td>1144649</td>\n",
       "      <td>25939208</td>\n",
       "      <td>4.2</td>\n",
       "      <td>95.8</td>\n",
       "    </tr>\n",
       "    <tr>\n",
       "      <td>...</td>\n",
       "      <td>...</td>\n",
       "      <td>...</td>\n",
       "      <td>...</td>\n",
       "      <td>...</td>\n",
       "      <td>...</td>\n",
       "      <td>...</td>\n",
       "      <td>...</td>\n",
       "      <td>...</td>\n",
       "      <td>...</td>\n",
       "      <td>...</td>\n",
       "      <td>...</td>\n",
       "      <td>...</td>\n",
       "    </tr>\n",
       "    <tr>\n",
       "      <td>632</td>\n",
       "      <td>2593</td>\n",
       "      <td>636034</td>\n",
       "      <td>Swimming</td>\n",
       "      <td>2018-04-14</td>\n",
       "      <td>NaN</td>\n",
       "      <td>0.0</td>\n",
       "      <td>0</td>\n",
       "      <td>1377748</td>\n",
       "      <td>24708</td>\n",
       "      <td>1353040</td>\n",
       "      <td>1.8</td>\n",
       "      <td>98.2</td>\n",
       "    </tr>\n",
       "    <tr>\n",
       "      <td>633</td>\n",
       "      <td>2594</td>\n",
       "      <td>636248</td>\n",
       "      <td>Walk</td>\n",
       "      <td>2018-01-28</td>\n",
       "      <td>NaN</td>\n",
       "      <td>0.0</td>\n",
       "      <td>0</td>\n",
       "      <td>605764</td>\n",
       "      <td>605764</td>\n",
       "      <td>0</td>\n",
       "      <td>100.0</td>\n",
       "      <td>0.0</td>\n",
       "    </tr>\n",
       "    <tr>\n",
       "      <td>634</td>\n",
       "      <td>2596</td>\n",
       "      <td>639533</td>\n",
       "      <td>Reformed</td>\n",
       "      <td>2018-10-14</td>\n",
       "      <td>Horror</td>\n",
       "      <td>0.0</td>\n",
       "      <td>0</td>\n",
       "      <td>3862498</td>\n",
       "      <td>3448256</td>\n",
       "      <td>414242</td>\n",
       "      <td>89.3</td>\n",
       "      <td>10.7</td>\n",
       "    </tr>\n",
       "    <tr>\n",
       "      <td>635</td>\n",
       "      <td>2597</td>\n",
       "      <td>640273</td>\n",
       "      <td>Madama Butterfly</td>\n",
       "      <td>2018-01-01</td>\n",
       "      <td>NaN</td>\n",
       "      <td>0.0</td>\n",
       "      <td>0</td>\n",
       "      <td>129730</td>\n",
       "      <td>129730</td>\n",
       "      <td>0</td>\n",
       "      <td>100.0</td>\n",
       "      <td>0.0</td>\n",
       "    </tr>\n",
       "    <tr>\n",
       "      <td>636</td>\n",
       "      <td>2598</td>\n",
       "      <td>641110</td>\n",
       "      <td>ACES</td>\n",
       "      <td>2018-02-13</td>\n",
       "      <td>Drama</td>\n",
       "      <td>0.0</td>\n",
       "      <td>0</td>\n",
       "      <td>2191516</td>\n",
       "      <td>72324</td>\n",
       "      <td>2119192</td>\n",
       "      <td>3.3</td>\n",
       "      <td>96.7</td>\n",
       "    </tr>\n",
       "  </tbody>\n",
       "</table>\n",
       "<p>637 rows × 12 columns</p>\n",
       "</div>"
      ],
      "text/plain": [
       "     Unnamed: 0  movie_id                  title release_date  genre_ids  \\\n",
       "0             0       221  Rebel Without a Cause   2018-09-23      Drama   \n",
       "1             1       424       Schindler's List   1993-12-15      Drama   \n",
       "2             2       797                Persona   1967-03-06      Drama   \n",
       "3             3      2280                    Big   1988-06-03     Comedy   \n",
       "4             9      8392     My Neighbor Totoro   2018-12-11  Animation   \n",
       "..          ...       ...                    ...          ...        ...   \n",
       "632        2593    636034               Swimming   2018-04-14        NaN   \n",
       "633        2594    636248                   Walk   2018-01-28        NaN   \n",
       "634        2596    639533               Reformed   2018-10-14     Horror   \n",
       "635        2597    640273       Madama Butterfly   2018-01-01        NaN   \n",
       "636        2598    641110                   ACES   2018-02-13      Drama   \n",
       "\n",
       "     vote_avg  vote_count  Total_Rev  Domestic_Rev  Foreign_Rev  \\\n",
       "0         7.7         827     199963        199963            0   \n",
       "1         8.6        8804     937140        833050       104090   \n",
       "2         8.3         839      35423         35423            0   \n",
       "3         7.0        1985   22090304         85624     22004680   \n",
       "4         8.1        3616   27083857       1144649     25939208   \n",
       "..        ...         ...        ...           ...          ...   \n",
       "632       0.0           0    1377748         24708      1353040   \n",
       "633       0.0           0     605764        605764            0   \n",
       "634       0.0           0    3862498       3448256       414242   \n",
       "635       0.0           0     129730        129730            0   \n",
       "636       0.0           0    2191516         72324      2119192   \n",
       "\n",
       "     Foreign_Percent  Domestic_Percent  \n",
       "0              100.0               0.0  \n",
       "1               88.9              11.1  \n",
       "2              100.0               0.0  \n",
       "3                0.4              99.6  \n",
       "4                4.2              95.8  \n",
       "..               ...               ...  \n",
       "632              1.8              98.2  \n",
       "633            100.0               0.0  \n",
       "634             89.3              10.7  \n",
       "635            100.0               0.0  \n",
       "636              3.3              96.7  \n",
       "\n",
       "[637 rows x 12 columns]"
      ]
     },
     "execution_count": 6,
     "metadata": {},
     "output_type": "execute_result"
    }
   ],
   "source": [
    "df"
   ]
  },
  {
   "cell_type": "code",
   "execution_count": 7,
   "metadata": {
    "scrolled": true
   },
   "outputs": [],
   "source": [
    "df=df.drop(columns='Unnamed: 0')"
   ]
  },
  {
   "cell_type": "code",
   "execution_count": 8,
   "metadata": {},
   "outputs": [],
   "source": [
    "df = df.replace(0, np.NaN)"
   ]
  },
  {
   "cell_type": "markdown",
   "metadata": {},
   "source": [
    "Exploring the Data"
   ]
  },
  {
   "cell_type": "code",
   "execution_count": 10,
   "metadata": {},
   "outputs": [
    {
     "data": {
      "image/png": "[encoded data removed]",
      "text/plain": [
       "<Figure size 432x288 with 1 Axes>"
      ]
     },
     "metadata": {
      "needs_background": "light"
     },
     "output_type": "display_data"
    }
   ],
   "source": [
    "average_rating_genre =df.groupby(['genre_ids'])['vote_avg'].mean().plot(kind='bar', color='tan')"
   ]
  },
  {
   "cell_type": "code",
   "execution_count": 11,
   "metadata": {},
   "outputs": [
    {
     "data": {
      "image/png": "[encoded data removed]",
      "text/plain": [
       "<Figure size 432x288 with 1 Axes>"
      ]
     },
     "metadata": {
      "needs_background": "light"
     },
     "output_type": "display_data"
    }
   ],
   "source": [
    "average_total_rev_genre = df.groupby(['genre_ids'])['Total_Rev'].mean().plot(kind='bar', color='tan')"
   ]
  },
  {
   "cell_type": "code",
   "execution_count": 12,
   "metadata": {
    "scrolled": true
   },
   "outputs": [
    {
     "data": {
      "image/png": "[encoded data removed]",
      "text/plain": [
       "<Figure size 432x288 with 1 Axes>"
      ]
     },
     "metadata": {
      "needs_background": "light"
     },
     "output_type": "display_data"
    }
   ],
   "source": [
    "total_count_genre = df.groupby(['genre_ids'])['title'].count().plot(kind='bar', color='tan')"
   ]
  },
  {
   "cell_type": "code",
   "execution_count": 13,
   "metadata": {
    "scrolled": false
   },
   "outputs": [
    {
     "data": {
      "text/html": [
       "<div>\n",
       "<style scoped>\n",
       "    .dataframe tbody tr th:only-of-type {\n",
       "        vertical-align: middle;\n",
       "    }\n",
       "\n",
       "    .dataframe tbody tr th {\n",
       "        vertical-align: top;\n",
       "    }\n",
       "\n",
       "    .dataframe thead th {\n",
       "        text-align: right;\n",
       "    }\n",
       "</style>\n",
       "<table border=\"1\" class=\"dataframe\">\n",
       "  <thead>\n",
       "    <tr style=\"text-align: right;\">\n",
       "      <th></th>\n",
       "      <th>Foreign_Rev</th>\n",
       "      <th>Domestic_Rev</th>\n",
       "    </tr>\n",
       "    <tr>\n",
       "      <th>genre_ids</th>\n",
       "      <th></th>\n",
       "      <th></th>\n",
       "    </tr>\n",
       "  </thead>\n",
       "  <tbody>\n",
       "    <tr>\n",
       "      <td>Action</td>\n",
       "      <td>1.845023e+08</td>\n",
       "      <td>9.423063e+07</td>\n",
       "    </tr>\n",
       "    <tr>\n",
       "      <td>Adventure</td>\n",
       "      <td>8.912305e+07</td>\n",
       "      <td>3.373749e+07</td>\n",
       "    </tr>\n",
       "    <tr>\n",
       "      <td>Animation</td>\n",
       "      <td>1.622820e+08</td>\n",
       "      <td>7.379797e+07</td>\n",
       "    </tr>\n",
       "    <tr>\n",
       "      <td>Comedy</td>\n",
       "      <td>4.616840e+07</td>\n",
       "      <td>2.807187e+07</td>\n",
       "    </tr>\n",
       "    <tr>\n",
       "      <td>Crime</td>\n",
       "      <td>4.226362e+07</td>\n",
       "      <td>1.538164e+07</td>\n",
       "    </tr>\n",
       "    <tr>\n",
       "      <td>Documentary</td>\n",
       "      <td>1.726001e+07</td>\n",
       "      <td>4.392854e+06</td>\n",
       "    </tr>\n",
       "    <tr>\n",
       "      <td>Drama</td>\n",
       "      <td>2.680848e+07</td>\n",
       "      <td>1.399736e+07</td>\n",
       "    </tr>\n",
       "    <tr>\n",
       "      <td>Family</td>\n",
       "      <td>1.028386e+09</td>\n",
       "      <td>2.984652e+08</td>\n",
       "    </tr>\n",
       "    <tr>\n",
       "      <td>Fantasy</td>\n",
       "      <td>1.375317e+07</td>\n",
       "      <td>1.460359e+07</td>\n",
       "    </tr>\n",
       "    <tr>\n",
       "      <td>History</td>\n",
       "      <td>2.748683e+06</td>\n",
       "      <td>8.781548e+06</td>\n",
       "    </tr>\n",
       "    <tr>\n",
       "      <td>Horror</td>\n",
       "      <td>8.780147e+07</td>\n",
       "      <td>5.173953e+07</td>\n",
       "    </tr>\n",
       "    <tr>\n",
       "      <td>Music</td>\n",
       "      <td>5.066602e+06</td>\n",
       "      <td>6.850866e+05</td>\n",
       "    </tr>\n",
       "    <tr>\n",
       "      <td>Mystery</td>\n",
       "      <td>5.235883e+07</td>\n",
       "      <td>2.347731e+07</td>\n",
       "    </tr>\n",
       "    <tr>\n",
       "      <td>Romance</td>\n",
       "      <td>3.925250e+06</td>\n",
       "      <td>8.218120e+04</td>\n",
       "    </tr>\n",
       "    <tr>\n",
       "      <td>Science Fiction</td>\n",
       "      <td>2.545827e+07</td>\n",
       "      <td>1.047638e+07</td>\n",
       "    </tr>\n",
       "    <tr>\n",
       "      <td>Thriller</td>\n",
       "      <td>3.123879e+07</td>\n",
       "      <td>1.643855e+07</td>\n",
       "    </tr>\n",
       "    <tr>\n",
       "      <td>War</td>\n",
       "      <td>1.087443e+06</td>\n",
       "      <td>5.911200e+04</td>\n",
       "    </tr>\n",
       "  </tbody>\n",
       "</table>\n",
       "</div>"
      ],
      "text/plain": [
       "                  Foreign_Rev  Domestic_Rev\n",
       "genre_ids                                  \n",
       "Action           1.845023e+08  9.423063e+07\n",
       "Adventure        8.912305e+07  3.373749e+07\n",
       "Animation        1.622820e+08  7.379797e+07\n",
       "Comedy           4.616840e+07  2.807187e+07\n",
       "Crime            4.226362e+07  1.538164e+07\n",
       "Documentary      1.726001e+07  4.392854e+06\n",
       "Drama            2.680848e+07  1.399736e+07\n",
       "Family           1.028386e+09  2.984652e+08\n",
       "Fantasy          1.375317e+07  1.460359e+07\n",
       "History          2.748683e+06  8.781548e+06\n",
       "Horror           8.780147e+07  5.173953e+07\n",
       "Music            5.066602e+06  6.850866e+05\n",
       "Mystery          5.235883e+07  2.347731e+07\n",
       "Romance          3.925250e+06  8.218120e+04\n",
       "Science Fiction  2.545827e+07  1.047638e+07\n",
       "Thriller         3.123879e+07  1.643855e+07\n",
       "War              1.087443e+06  5.911200e+04"
      ]
     },
     "execution_count": 13,
     "metadata": {},
     "output_type": "execute_result"
    }
   ],
   "source": [
    "df.groupby(['genre_ids'])['Foreign_Rev','Domestic_Rev'].mean()"
   ]
  },
  {
   "cell_type": "code",
   "execution_count": 29,
   "metadata": {},
   "outputs": [
    {
     "data": {
      "text/html": [
       "<div>\n",
       "<style scoped>\n",
       "    .dataframe tbody tr th:only-of-type {\n",
       "        vertical-align: middle;\n",
       "    }\n",
       "\n",
       "    .dataframe tbody tr th {\n",
       "        vertical-align: top;\n",
       "    }\n",
       "\n",
       "    .dataframe thead th {\n",
       "        text-align: right;\n",
       "    }\n",
       "</style>\n",
       "<table border=\"1\" class=\"dataframe\">\n",
       "  <thead>\n",
       "    <tr style=\"text-align: right;\">\n",
       "      <th></th>\n",
       "      <th>Total_Rev</th>\n",
       "      <th>Foreign_Rev</th>\n",
       "      <th>Domestic_Rev</th>\n",
       "    </tr>\n",
       "    <tr>\n",
       "      <th>genre_ids</th>\n",
       "      <th></th>\n",
       "      <th></th>\n",
       "      <th></th>\n",
       "    </tr>\n",
       "  </thead>\n",
       "  <tbody>\n",
       "    <tr>\n",
       "      <td>Action</td>\n",
       "      <td>18679064544</td>\n",
       "      <td>1.217715e+10</td>\n",
       "      <td>6.501913e+09</td>\n",
       "    </tr>\n",
       "    <tr>\n",
       "      <td>Adventure</td>\n",
       "      <td>3731643071</td>\n",
       "      <td>2.584569e+09</td>\n",
       "      <td>1.147075e+09</td>\n",
       "    </tr>\n",
       "    <tr>\n",
       "      <td>Animation</td>\n",
       "      <td>3290433980</td>\n",
       "      <td>2.109666e+09</td>\n",
       "      <td>1.180768e+09</td>\n",
       "    </tr>\n",
       "    <tr>\n",
       "      <td>Comedy</td>\n",
       "      <td>5896761058</td>\n",
       "      <td>3.370293e+09</td>\n",
       "      <td>2.526468e+09</td>\n",
       "    </tr>\n",
       "    <tr>\n",
       "      <td>Crime</td>\n",
       "      <td>1275958347</td>\n",
       "      <td>8.452725e+08</td>\n",
       "      <td>4.306859e+08</td>\n",
       "    </tr>\n",
       "    <tr>\n",
       "      <td>Documentary</td>\n",
       "      <td>1099247274</td>\n",
       "      <td>6.731404e+08</td>\n",
       "      <td>4.261068e+08</td>\n",
       "    </tr>\n",
       "    <tr>\n",
       "      <td>Drama</td>\n",
       "      <td>5645440989</td>\n",
       "      <td>3.377869e+09</td>\n",
       "      <td>2.267572e+09</td>\n",
       "    </tr>\n",
       "    <tr>\n",
       "      <td>Family</td>\n",
       "      <td>2952166996</td>\n",
       "      <td>2.056771e+09</td>\n",
       "      <td>8.953955e+08</td>\n",
       "    </tr>\n",
       "    <tr>\n",
       "      <td>Fantasy</td>\n",
       "      <td>213100841</td>\n",
       "      <td>9.627216e+07</td>\n",
       "      <td>1.168287e+08</td>\n",
       "    </tr>\n",
       "    <tr>\n",
       "      <td>History</td>\n",
       "      <td>23060462</td>\n",
       "      <td>5.497366e+06</td>\n",
       "      <td>1.756310e+07</td>\n",
       "    </tr>\n",
       "    <tr>\n",
       "      <td>Horror</td>\n",
       "      <td>4150168053</td>\n",
       "      <td>2.546243e+09</td>\n",
       "      <td>1.603926e+09</td>\n",
       "    </tr>\n",
       "    <tr>\n",
       "      <td>Music</td>\n",
       "      <td>16298983</td>\n",
       "      <td>1.013320e+07</td>\n",
       "      <td>6.165779e+06</td>\n",
       "    </tr>\n",
       "    <tr>\n",
       "      <td>Mystery</td>\n",
       "      <td>151672281</td>\n",
       "      <td>1.047177e+08</td>\n",
       "      <td>4.695462e+07</td>\n",
       "    </tr>\n",
       "    <tr>\n",
       "      <td>Romance</td>\n",
       "      <td>12186657</td>\n",
       "      <td>1.177575e+07</td>\n",
       "      <td>4.109060e+05</td>\n",
       "    </tr>\n",
       "    <tr>\n",
       "      <td>Science Fiction</td>\n",
       "      <td>303924376</td>\n",
       "      <td>1.782079e+08</td>\n",
       "      <td>1.257165e+08</td>\n",
       "    </tr>\n",
       "    <tr>\n",
       "      <td>Thriller</td>\n",
       "      <td>766114138</td>\n",
       "      <td>4.373431e+08</td>\n",
       "      <td>3.287711e+08</td>\n",
       "    </tr>\n",
       "    <tr>\n",
       "      <td>War</td>\n",
       "      <td>1205667</td>\n",
       "      <td>1.087443e+06</td>\n",
       "      <td>1.182240e+05</td>\n",
       "    </tr>\n",
       "  </tbody>\n",
       "</table>\n",
       "</div>"
      ],
      "text/plain": [
       "                   Total_Rev   Foreign_Rev  Domestic_Rev\n",
       "genre_ids                                               \n",
       "Action           18679064544  1.217715e+10  6.501913e+09\n",
       "Adventure         3731643071  2.584569e+09  1.147075e+09\n",
       "Animation         3290433980  2.109666e+09  1.180768e+09\n",
       "Comedy            5896761058  3.370293e+09  2.526468e+09\n",
       "Crime             1275958347  8.452725e+08  4.306859e+08\n",
       "Documentary       1099247274  6.731404e+08  4.261068e+08\n",
       "Drama             5645440989  3.377869e+09  2.267572e+09\n",
       "Family            2952166996  2.056771e+09  8.953955e+08\n",
       "Fantasy            213100841  9.627216e+07  1.168287e+08\n",
       "History             23060462  5.497366e+06  1.756310e+07\n",
       "Horror            4150168053  2.546243e+09  1.603926e+09\n",
       "Music               16298983  1.013320e+07  6.165779e+06\n",
       "Mystery            151672281  1.047177e+08  4.695462e+07\n",
       "Romance             12186657  1.177575e+07  4.109060e+05\n",
       "Science Fiction    303924376  1.782079e+08  1.257165e+08\n",
       "Thriller           766114138  4.373431e+08  3.287711e+08\n",
       "War                  1205667  1.087443e+06  1.182240e+05"
      ]
     },
     "execution_count": 29,
     "metadata": {},
     "output_type": "execute_result"
    }
   ],
   "source": [
    "df.groupby(['genre_ids'])['Total_Rev','Foreign_Rev','Domestic_Rev'].sum()"
   ]
  },
  {
   "cell_type": "markdown",
   "metadata": {},
   "source": [
    "############################## Percentage Work ##############################"
   ]
  },
  {
   "cell_type": "code",
   "execution_count": 15,
   "metadata": {},
   "outputs": [
    {
     "data": {
      "text/plain": [
       "<matplotlib.axes._subplots.AxesSubplot at 0x1227ccc10>"
      ]
     },
     "execution_count": 15,
     "metadata": {},
     "output_type": "execute_result"
    },
    {
     "data": {
      "image/png": "[encoded data removed]",
      "text/plain": [
       "<Figure size 432x288 with 1 Axes>"
      ]
     },
     "metadata": {
      "needs_background": "light"
     },
     "output_type": "display_data"
    }
   ],
   "source": [
    "df.groupby(['genre_ids'])['Total_Rev','Foreign_Rev','Domestic_Rev'].sum().plot(kind='bar')"
   ]
  },
  {
   "cell_type": "code",
   "execution_count": 16,
   "metadata": {},
   "outputs": [],
   "source": [
    "test_df_f=df.groupby('genre_ids')['Foreign_Rev'].sum()/df.groupby('genre_ids')['Total_Rev'].sum()"
   ]
  },
  {
   "cell_type": "code",
   "execution_count": 17,
   "metadata": {
    "scrolled": true
   },
   "outputs": [
    {
     "data": {
      "text/plain": [
       "genre_ids\n",
       "Action             0.651914\n",
       "Adventure          0.692609\n",
       "Animation          0.641151\n",
       "Comedy             0.571550\n",
       "Crime              0.662461\n",
       "Documentary        0.612365\n",
       "Drama              0.598336\n",
       "Family             0.696699\n",
       "Fantasy            0.451768\n",
       "History            0.238389\n",
       "Horror             0.613528\n",
       "Music              0.621708\n",
       "Mystery            0.690421\n",
       "Romance            0.966282\n",
       "Science Fiction    0.586356\n",
       "Thriller           0.570859\n",
       "War                0.901943\n",
       "dtype: float64"
      ]
     },
     "execution_count": 17,
     "metadata": {},
     "output_type": "execute_result"
    }
   ],
   "source": [
    "test_df_f"
   ]
  },
  {
   "cell_type": "code",
   "execution_count": 18,
   "metadata": {},
   "outputs": [],
   "source": [
    "test_df_d=df.groupby('genre_ids')['Domestic_Rev'].sum()/df.groupby('genre_ids')['Total_Rev'].sum()"
   ]
  },
  {
   "cell_type": "code",
   "execution_count": 19,
   "metadata": {
    "scrolled": true
   },
   "outputs": [
    {
     "data": {
      "text/plain": [
       "genre_ids\n",
       "Action             0.348086\n",
       "Adventure          0.307391\n",
       "Animation          0.358849\n",
       "Comedy             0.428450\n",
       "Crime              0.337539\n",
       "Documentary        0.387635\n",
       "Drama              0.401664\n",
       "Family             0.303301\n",
       "Fantasy            0.548232\n",
       "History            0.761611\n",
       "Horror             0.386472\n",
       "Music              0.378292\n",
       "Mystery            0.309579\n",
       "Romance            0.033718\n",
       "Science Fiction    0.413644\n",
       "Thriller           0.429141\n",
       "War                0.098057\n",
       "dtype: float64"
      ]
     },
     "execution_count": 19,
     "metadata": {},
     "output_type": "execute_result"
    }
   ],
   "source": [
    "test_df_d"
   ]
  },
  {
   "cell_type": "code",
   "execution_count": 20,
   "metadata": {},
   "outputs": [],
   "source": [
    "test_df_t=pd.DataFrame({'Domestic_Percent': test_df_d, 'Foreign_Percent': test_df_f}) "
   ]
  },
  {
   "cell_type": "code",
   "execution_count": 21,
   "metadata": {},
   "outputs": [
    {
     "data": {
      "text/plain": [
       "<matplotlib.axes._subplots.AxesSubplot at 0x122949cd0>"
      ]
     },
     "execution_count": 21,
     "metadata": {},
     "output_type": "execute_result"
    },
    {
     "data": {
      "image/png": "[encoded data removed]",
      "text/plain": [
       "<Figure size 720x576 with 1 Axes>"
      ]
     },
     "metadata": {
      "needs_background": "light"
     },
     "output_type": "display_data"
    }
   ],
   "source": [
    "test_df_t.plot(kind='bar', stacked=True, color=('tan','gray'), figsize=(10,8))"
   ]
  },
  {
   "cell_type": "markdown",
   "metadata": {},
   "source": [
    "################################   CORRELATION WORK   #####################################"
   ]
  },
  {
   "cell_type": "markdown",
   "metadata": {},
   "source": [
    "#####################################################################"
   ]
  },
  {
   "cell_type": "code",
   "execution_count": 22,
   "metadata": {},
   "outputs": [],
   "source": [
    "df_avg_rate = df.groupby(['genre_ids'])['vote_avg'].mean()"
   ]
  },
  {
   "cell_type": "code",
   "execution_count": 23,
   "metadata": {},
   "outputs": [],
   "source": [
    "df_avg_rev = df.groupby(['genre_ids'])['Total_Rev'].mean()"
   ]
  },
  {
   "cell_type": "code",
   "execution_count": 24,
   "metadata": {},
   "outputs": [
    {
     "data": {
      "text/plain": [
       "0.7083266366875727"
      ]
     },
     "execution_count": 24,
     "metadata": {},
     "output_type": "execute_result"
    }
   ],
   "source": [
    "df_avg_rev.corr(df_avg_rate)"
   ]
  },
  {
   "cell_type": "markdown",
   "metadata": {},
   "source": [
    "The correlation between avg rating by genre and rev by genre is moderate to weak.\n",
    "**Double check this"
   ]
  },
  {
   "cell_type": "markdown",
   "metadata": {},
   "source": [
    "#####################################################################"
   ]
  },
  {
   "cell_type": "code",
   "execution_count": 25,
   "metadata": {},
   "outputs": [
    {
     "data": {
      "text/plain": [
       "0.9062966611269209"
      ]
     },
     "execution_count": 25,
     "metadata": {},
     "output_type": "execute_result"
    }
   ],
   "source": [
    "df['Domestic_Rev'].corr(df['Foreign_Rev'])"
   ]
  },
  {
   "cell_type": "markdown",
   "metadata": {},
   "source": [
    "There is a strong correlation between domestic revenue and foreign revenue meaning that if a movie does well in one market it is likely to do well in the other"
   ]
  },
  {
   "cell_type": "markdown",
   "metadata": {},
   "source": [
    "#####################################################################"
   ]
  },
  {
   "cell_type": "code",
   "execution_count": 26,
   "metadata": {},
   "outputs": [
    {
     "data": {
      "text/plain": [
       "0.14608171591743072"
      ]
     },
     "execution_count": 26,
     "metadata": {},
     "output_type": "execute_result"
    }
   ],
   "source": [
    "df['vote_avg'].corr(df['Total_Rev'])"
   ]
  },
  {
   "cell_type": "markdown",
   "metadata": {},
   "source": [
    "There is almost no correlation between user rating and revenue generate"
   ]
  },
  {
   "cell_type": "markdown",
   "metadata": {},
   "source": [
    "#####################################################################"
   ]
  },
  {
   "cell_type": "code",
   "execution_count": 27,
   "metadata": {},
   "outputs": [
    {
     "data": {
      "text/plain": [
       "0.6382280065008286"
      ]
     },
     "execution_count": 27,
     "metadata": {},
     "output_type": "execute_result"
    }
   ],
   "source": [
    "df['vote_count'].corr(df['Total_Rev'])"
   ]
  },
  {
   "cell_type": "markdown",
   "metadata": {},
   "source": [
    "There is a moderate to strong correlation between amount of ratings and revenue generated"
   ]
  },
  {
   "cell_type": "markdown",
   "metadata": {},
   "source": [
    "#####################################################################"
   ]
  },
  {
   "cell_type": "code",
   "execution_count": null,
   "metadata": {},
   "outputs": [],
   "source": []
  }
 ],
 "metadata": {
  "kernelspec": {
   "display_name": "Python 3",
   "language": "python",
   "name": "python3"
  },
  "language_info": {
   "codemirror_mode": {
    "name": "ipython",
    "version": 3
   },
   "file_extension": ".py",
   "mimetype": "text/x-python",
   "name": "python",
   "nbconvert_exporter": "python",
   "pygments_lexer": "ipython3",
   "version": "3.7.4"
  }
 },
 "nbformat": 4,
 "nbformat_minor": 2
}

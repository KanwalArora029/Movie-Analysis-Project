{
 "cells": [
  {
   "cell_type": "code",
   "execution_count": null,
   "metadata": {},
   "outputs": [],
   "source": []
  },
  {
   "cell_type": "code",
   "execution_count": null,
   "metadata": {},
   "outputs": [],
   "source": [
    "# Api Call Function\n",
    "import http.client\n",
    "page=1\n",
    "def api_call(url, page):\n",
    "    conn = http.client.HTTPSConnection(\"api.themoviedb.org\")\n",
    "\n",
    "    payload = \"{}\"\n",
    "    url = f\"/3/discover/movie?year=2018&page={page}&include_video=false&include_adult=false&sort_by=revenue.desc&region=US&language=en-US&api_key=69b1bbc66e37773ea1cc0568b2898163\"\n",
    "    conn.request(\"GET\", url, payload)\n",
    "\n",
    "    res = conn.getresponse()\n",
    "    data = res.read()\n",
    "\n",
    "    \n",
    "    data1_dict=json.loads(data)\n",
    "    \n",
    "    return data1_dict"
   ]
  },
  {
   "cell_type": "code",
   "execution_count": null,
   "metadata": {},
   "outputs": [],
   "source": [
    "# Parse Function\n",
    "def parse_data(data_list):\n",
    "    parsed_data_list = []\n",
    "\n",
    "    for movie in data_list['results']:\n",
    "        try:\n",
    "            movie_tuple = (movie['id'], movie['title'], movie['release_date'], movie['genre_ids'][0], movie['popularity'], movie['vote_average'], movie['vote_count'])\n",
    "            parsed_data_list.append(movie_tuple)\n",
    "        except:\n",
    "            movie_tuple = (movie['id'], movie['title'], movie['release_date'], 0, movie['popularity'], movie['vote_average'], movie['vote_count'])\n",
    "            parsed_data_list.append(movie_tuple)\n",
    "            \n",
    "        \n",
    "    return parsed_data_list "
   ]
  },
  {
   "cell_type": "code",
   "execution_count": null,
   "metadata": {},
   "outputs": [],
   "source": [
    "# Insert Function\n",
    "def insert_into_db(cnx, cursor, parsed_data):\n",
    "    stmt = \"INSERT INTO data1 (movie_id, title, release_date, genre_ids, popularity, vote_avg, vote_count) VALUES (%s, %s, %s, %s, %s, %s, %s)\"\n",
    "    cursor.executemany(stmt, parsed_data)\n",
    "    cnx.commit()"
   ]
  },
  {
   "cell_type": "code",
   "execution_count": null,
   "metadata": {},
   "outputs": [],
   "source": [
    "# Pagination Script\n",
    "for i in range(1,320): \n",
    "    print(i)\n",
    "    page = i\n",
    "    movies = api_call(url, page)\n",
    "    print(movies)\n",
    "    parsed_data = parse_data(movies)\n",
    "    insert_into_db(cnx, cursor, parsed_data)\n",
    "    page+=1\n",
    "    time.sleep(10)"
   ]
  }
 ],
 "metadata": {
  "kernelspec": {
   "display_name": "Python 3",
   "language": "python",
   "name": "python3"
  },
  "language_info": {
   "codemirror_mode": {
    "name": "ipython",
    "version": 3
   },
   "file_extension": ".py",
   "mimetype": "text/x-python",
   "name": "python",
   "nbconvert_exporter": "python",
   "pygments_lexer": "ipython3",
   "version": "3.7.4"
  }
 },
 "nbformat": 4,
 "nbformat_minor": 2
}

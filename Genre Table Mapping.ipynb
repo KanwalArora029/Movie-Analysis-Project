{
 "cells": [
  {
   "cell_type": "markdown",
   "metadata": {},
   "source": [
    "# Imports & Connecting "
   ]
  },
  {
   "cell_type": "code",
   "execution_count": 2,
   "metadata": {},
   "outputs": [],
   "source": [
    "import requests\n",
    "import json\n",
    "import time\n",
    "import pandas as pd"
   ]
  },
  {
   "cell_type": "code",
   "execution_count": 85,
   "metadata": {},
   "outputs": [],
   "source": [
    "import mysql.connector \n",
    "import config"
   ]
  },
  {
   "cell_type": "code",
   "execution_count": 86,
   "metadata": {},
   "outputs": [],
   "source": [
    "cnx = mysql.connector .connect(\n",
    "    host = config.host,\n",
    "    user = config.user,\n",
    "    passwd = config.pw)"
   ]
  },
  {
   "cell_type": "code",
   "execution_count": 87,
   "metadata": {},
   "outputs": [],
   "source": [
    "cursor = cnx.cursor()"
   ]
  },
  {
   "cell_type": "code",
   "execution_count": 88,
   "metadata": {},
   "outputs": [],
   "source": [
    "cnx.database = 'movie_analysis_project'"
   ]
  },
  {
   "cell_type": "code",
   "execution_count": 89,
   "metadata": {},
   "outputs": [
    {
     "data": {
      "text/plain": [
       "<mysql.connector.cursor_cext.CMySQLCursor at 0x11ab0b2d0>"
      ]
     },
     "execution_count": 89,
     "metadata": {},
     "output_type": "execute_result"
    }
   ],
   "source": [
    "cursor"
   ]
  },
  {
   "cell_type": "markdown",
   "metadata": {},
   "source": [
    "# Pulling Genre Data"
   ]
  },
  {
   "cell_type": "code",
   "execution_count": 26,
   "metadata": {},
   "outputs": [],
   "source": [
    "url = f\"https://api.themoviedb.org/3/genre/movie/list?language=en-US&api_key=69b1bbc66e37773ea1cc0568b2898163\"\n",
    "response = requests.get(url)\n",
    "    \n",
    "genre_data = response.text\n",
    "genre_data_dict=json.loads(genre_data)"
   ]
  },
  {
   "cell_type": "code",
   "execution_count": 27,
   "metadata": {
    "scrolled": true
   },
   "outputs": [
    {
     "data": {
      "text/plain": [
       "{'genres': [{'id': 28, 'name': 'Action'},\n",
       "  {'id': 12, 'name': 'Adventure'},\n",
       "  {'id': 16, 'name': 'Animation'},\n",
       "  {'id': 35, 'name': 'Comedy'},\n",
       "  {'id': 80, 'name': 'Crime'},\n",
       "  {'id': 99, 'name': 'Documentary'},\n",
       "  {'id': 18, 'name': 'Drama'},\n",
       "  {'id': 10751, 'name': 'Family'},\n",
       "  {'id': 14, 'name': 'Fantasy'},\n",
       "  {'id': 36, 'name': 'History'},\n",
       "  {'id': 27, 'name': 'Horror'},\n",
       "  {'id': 10402, 'name': 'Music'},\n",
       "  {'id': 9648, 'name': 'Mystery'},\n",
       "  {'id': 10749, 'name': 'Romance'},\n",
       "  {'id': 878, 'name': 'Science Fiction'},\n",
       "  {'id': 10770, 'name': 'TV Movie'},\n",
       "  {'id': 53, 'name': 'Thriller'},\n",
       "  {'id': 10752, 'name': 'War'},\n",
       "  {'id': 37, 'name': 'Western'}]}"
      ]
     },
     "execution_count": 27,
     "metadata": {},
     "output_type": "execute_result"
    }
   ],
   "source": [
    "genre_data_dict"
   ]
  },
  {
   "cell_type": "code",
   "execution_count": 28,
   "metadata": {},
   "outputs": [
    {
     "data": {
      "text/plain": [
       "{'id': 28, 'name': 'Action'}"
      ]
     },
     "execution_count": 28,
     "metadata": {},
     "output_type": "execute_result"
    }
   ],
   "source": [
    "genre_data_dict['genres'][0]"
   ]
  },
  {
   "cell_type": "markdown",
   "metadata": {},
   "source": [
    "# Genre Tuple"
   ]
  },
  {
   "cell_type": "code",
   "execution_count": 29,
   "metadata": {},
   "outputs": [],
   "source": [
    "g=genre_data_dict['genres'][0]"
   ]
  },
  {
   "cell_type": "code",
   "execution_count": 30,
   "metadata": {},
   "outputs": [
    {
     "data": {
      "text/plain": [
       "{'id': 28, 'name': 'Action'}"
      ]
     },
     "execution_count": 30,
     "metadata": {},
     "output_type": "execute_result"
    }
   ],
   "source": [
    "g"
   ]
  },
  {
   "cell_type": "code",
   "execution_count": 31,
   "metadata": {},
   "outputs": [],
   "source": [
    "genre_tuple = (g['id'], g['name'])"
   ]
  },
  {
   "cell_type": "code",
   "execution_count": 32,
   "metadata": {
    "scrolled": true
   },
   "outputs": [
    {
     "data": {
      "text/plain": [
       "(28, 'Action')"
      ]
     },
     "execution_count": 32,
     "metadata": {},
     "output_type": "execute_result"
    }
   ],
   "source": [
    "genre_tuple "
   ]
  },
  {
   "cell_type": "markdown",
   "metadata": {},
   "source": [
    "# Genre Parsing"
   ]
  },
  {
   "cell_type": "code",
   "execution_count": 33,
   "metadata": {},
   "outputs": [],
   "source": [
    "def parse_genres(data_list):\n",
    "    parsed_genre_list = []\n",
    "\n",
    "    for genre in genre_data_dict['genres']:\n",
    "   # try:\n",
    "        genre_tuple = (genre['id'], genre['name'])\n",
    "        parsed_genre_list.append(genre_tuple)\n",
    "    return parsed_genre_list"
   ]
  },
  {
   "cell_type": "code",
   "execution_count": 34,
   "metadata": {},
   "outputs": [],
   "source": [
    "good_to_go_genres =parse_genres(genre_data_dict)"
   ]
  },
  {
   "cell_type": "code",
   "execution_count": 35,
   "metadata": {},
   "outputs": [],
   "source": [
    "good_to_go_genres.append((0,None))"
   ]
  },
  {
   "cell_type": "code",
   "execution_count": 36,
   "metadata": {},
   "outputs": [
    {
     "data": {
      "text/plain": [
       "[(28, 'Action'),\n",
       " (12, 'Adventure'),\n",
       " (16, 'Animation'),\n",
       " (35, 'Comedy'),\n",
       " (80, 'Crime'),\n",
       " (99, 'Documentary'),\n",
       " (18, 'Drama'),\n",
       " (10751, 'Family'),\n",
       " (14, 'Fantasy'),\n",
       " (36, 'History'),\n",
       " (27, 'Horror'),\n",
       " (10402, 'Music'),\n",
       " (9648, 'Mystery'),\n",
       " (10749, 'Romance'),\n",
       " (878, 'Science Fiction'),\n",
       " (10770, 'TV Movie'),\n",
       " (53, 'Thriller'),\n",
       " (10752, 'War'),\n",
       " (37, 'Western'),\n",
       " (0, None)]"
      ]
     },
     "execution_count": 36,
     "metadata": {},
     "output_type": "execute_result"
    }
   ],
   "source": [
    "good_to_go_genres"
   ]
  },
  {
   "cell_type": "markdown",
   "metadata": {},
   "source": [
    "# Inserting "
   ]
  },
  {
   "cell_type": "code",
   "execution_count": 82,
   "metadata": {},
   "outputs": [],
   "source": [
    "def insert_into_db(cnx, cursor, parsed_data):\n",
    "    stmt = \"INSERT INTO genre_reference (genre_id, genre) VALUES (%s, %s)\"\n",
    "    cursor.executemany(stmt, parsed_data)\n",
    "    cnx.commit()"
   ]
  },
  {
   "cell_type": "code",
   "execution_count": 95,
   "metadata": {},
   "outputs": [],
   "source": [
    "insert_into_db(cnx,cursor,good_to_go_genres)"
   ]
  },
  {
   "cell_type": "code",
   "execution_count": null,
   "metadata": {},
   "outputs": [],
   "source": []
  }
 ],
 "metadata": {
  "kernelspec": {
   "display_name": "Python 3",
   "language": "python",
   "name": "python3"
  },
  "language_info": {
   "codemirror_mode": {
    "name": "ipython",
    "version": 3
   },
   "file_extension": ".py",
   "mimetype": "text/x-python",
   "name": "python",
   "nbconvert_exporter": "python",
   "pygments_lexer": "ipython3",
   "version": "3.7.4"
  }
 },
 "nbformat": 4,
 "nbformat_minor": 2
}
